{
 "cells": [
  {
   "cell_type": "code",
   "execution_count": null,
   "metadata": {},
   "outputs": [],
   "source": [
    "import pandas as pd\n",
    "import numpy as np \n",
    "import text_classifier\n",
    "\n",
    "data = pd.DataFrame(pd.read_csv('Questions_data.csv'))\n",
    "\n",
    "Child_name = input('Enter your name: ')\n",
    "# print(\"Welcome to the KAI \",Child_name)\n",
    "\n",
    "print(\"We are here to ask you some questions kindly be attentive\")\n",
    "child_data = data[data['Type']=='C']\n",
    "# print(child_data)\n",
    "total_score = 0\n",
    "for i in range(5,len(child_data)+5):\n",
    "    print('Select one of the options: ')\n",
    "    print('(1) Not at all (2) Almost Never (3) Sometimes (4) Most of the times')\n",
    "    answer = input(child_data['Questions'].loc[i])\n",
    "    answer = int(answer,10)\n",
    "    total_score = total_score + answer\n",
    "\n"
   ]
  },
  {
   "cell_type": "code",
   "execution_count": null,
   "metadata": {},
   "outputs": [],
   "source": [
    "Parent_name = input('Enter your name: ')\n",
    "print(\"Welcome to the KAI \",Parent_name)\n",
    "\n",
    "print(\"We are here to ask you some questions kindly be attentive\")\n",
    "parent_data = data[data['Type']=='P']\n",
    "print(parent_data)\n",
    "total_score_p = 0\n",
    "for i in range(0,len(parent_data)):\n",
    "    print('Select one of the options: ')\n",
    "    print('(1) Not at all (2) Almost Never (3) Sometimes (4) Most of the times')\n",
    "    answer = input(parent_data['Questions'].loc[i])\n",
    "    answer = int(answer,10)\n",
    "    total_score_p = total_score_p + answer\n"
   ]
  },
  {
   "cell_type": "code",
   "execution_count": null,
   "metadata": {},
   "outputs": [],
   "source": [
    "if(total_score <=10):\n",
    "    print(Child_name,'you may be feeling low/depressed!')"
   ]
  },
  {
   "cell_type": "code",
   "execution_count": null,
   "metadata": {},
   "outputs": [],
   "source": [
    "if(total_score_p <=10):\n",
    "    print(Parent_name,'you are not communicating well with your child')\n",
    "else:\n",
    "    print(Parent_name,'You are doing your part well we just need to sit together and discuss the problem')"
   ]
  },
  {
   "cell_type": "code",
   "execution_count": 15,
   "metadata": {},
   "outputs": [
    {
     "name": "stdout",
     "output_type": "stream",
     "text": [
      "Please enter the exact problem you are facing m\n"
     ]
    },
    {
     "ename": "TypeError",
     "evalue": "'Series' object is not callable",
     "output_type": "error",
     "traceback": [
      "\u001b[1;31m---------------------------------------------------------------------------\u001b[0m",
      "\u001b[1;31mTypeError\u001b[0m                                 Traceback (most recent call last)",
      "\u001b[1;32m<ipython-input-15-f57a6e2272f1>\u001b[0m in \u001b[0;36m<module>\u001b[1;34m\u001b[0m\n\u001b[0;32m      4\u001b[0m \u001b[0mres_data\u001b[0m \u001b[1;33m=\u001b[0m \u001b[0mpd\u001b[0m\u001b[1;33m.\u001b[0m\u001b[0mDataFrame\u001b[0m\u001b[1;33m(\u001b[0m\u001b[0mpd\u001b[0m\u001b[1;33m.\u001b[0m\u001b[0mread_csv\u001b[0m\u001b[1;33m(\u001b[0m\u001b[1;34m'final_sentence_classification_data.csv'\u001b[0m\u001b[1;33m)\u001b[0m\u001b[1;33m)\u001b[0m\u001b[1;33m\u001b[0m\u001b[0m\n\u001b[0;32m      5\u001b[0m \u001b[0myour_problem_child\u001b[0m \u001b[1;33m=\u001b[0m \u001b[0minput\u001b[0m\u001b[1;33m(\u001b[0m\u001b[1;34m\"Please enter the exact problem you are facing \"\u001b[0m\u001b[1;33m)\u001b[0m\u001b[1;33m\u001b[0m\u001b[0m\n\u001b[1;32m----> 6\u001b[1;33m \u001b[0mc\u001b[0m\u001b[1;33m(\u001b[0m\u001b[0mtokenize\u001b[0m\u001b[1;33m.\u001b[0m\u001b[0mtokenize\u001b[0m\u001b[1;33m(\u001b[0m\u001b[1;33m(\u001b[0m\u001b[0mres_data\u001b[0m\u001b[1;33m[\u001b[0m\u001b[1;34m'Responses'\u001b[0m\u001b[1;33m]\u001b[0m\u001b[1;33m)\u001b[0m\u001b[1;33m)\u001b[0m\u001b[1;33m)\u001b[0m\u001b[1;33m\u001b[0m\u001b[0m\n\u001b[0m",
      "\u001b[1;32mc:\\users\\avi\\appdata\\local\\programs\\python\\python35\\lib\\tokenize.py\u001b[0m in \u001b[0;36mtokenize\u001b[1;34m(readline)\u001b[0m\n\u001b[0;32m    486\u001b[0m     \u001b[1;31m# built yet and tokenize is imported.\u001b[0m\u001b[1;33m\u001b[0m\u001b[1;33m\u001b[0m\u001b[0m\n\u001b[0;32m    487\u001b[0m     \u001b[1;32mfrom\u001b[0m \u001b[0mitertools\u001b[0m \u001b[1;32mimport\u001b[0m \u001b[0mchain\u001b[0m\u001b[1;33m,\u001b[0m \u001b[0mrepeat\u001b[0m\u001b[1;33m\u001b[0m\u001b[0m\n\u001b[1;32m--> 488\u001b[1;33m     \u001b[0mencoding\u001b[0m\u001b[1;33m,\u001b[0m \u001b[0mconsumed\u001b[0m \u001b[1;33m=\u001b[0m \u001b[0mdetect_encoding\u001b[0m\u001b[1;33m(\u001b[0m\u001b[0mreadline\u001b[0m\u001b[1;33m)\u001b[0m\u001b[1;33m\u001b[0m\u001b[0m\n\u001b[0m\u001b[0;32m    489\u001b[0m     \u001b[0mrl_gen\u001b[0m \u001b[1;33m=\u001b[0m \u001b[0miter\u001b[0m\u001b[1;33m(\u001b[0m\u001b[0mreadline\u001b[0m\u001b[1;33m,\u001b[0m \u001b[1;34mb\"\"\u001b[0m\u001b[1;33m)\u001b[0m\u001b[1;33m\u001b[0m\u001b[0m\n\u001b[0;32m    490\u001b[0m     \u001b[0mempty\u001b[0m \u001b[1;33m=\u001b[0m \u001b[0mrepeat\u001b[0m\u001b[1;33m(\u001b[0m\u001b[1;34mb\"\"\u001b[0m\u001b[1;33m)\u001b[0m\u001b[1;33m\u001b[0m\u001b[0m\n",
      "\u001b[1;32mc:\\users\\avi\\appdata\\local\\programs\\python\\python35\\lib\\tokenize.py\u001b[0m in \u001b[0;36mdetect_encoding\u001b[1;34m(readline)\u001b[0m\n\u001b[0;32m    423\u001b[0m         \u001b[1;32mreturn\u001b[0m \u001b[0mencoding\u001b[0m\u001b[1;33m\u001b[0m\u001b[0m\n\u001b[0;32m    424\u001b[0m \u001b[1;33m\u001b[0m\u001b[0m\n\u001b[1;32m--> 425\u001b[1;33m     \u001b[0mfirst\u001b[0m \u001b[1;33m=\u001b[0m \u001b[0mread_or_stop\u001b[0m\u001b[1;33m(\u001b[0m\u001b[1;33m)\u001b[0m\u001b[1;33m\u001b[0m\u001b[0m\n\u001b[0m\u001b[0;32m    426\u001b[0m     \u001b[1;32mif\u001b[0m \u001b[0mfirst\u001b[0m\u001b[1;33m.\u001b[0m\u001b[0mstartswith\u001b[0m\u001b[1;33m(\u001b[0m\u001b[0mBOM_UTF8\u001b[0m\u001b[1;33m)\u001b[0m\u001b[1;33m:\u001b[0m\u001b[1;33m\u001b[0m\u001b[0m\n\u001b[0;32m    427\u001b[0m         \u001b[0mbom_found\u001b[0m \u001b[1;33m=\u001b[0m \u001b[1;32mTrue\u001b[0m\u001b[1;33m\u001b[0m\u001b[0m\n",
      "\u001b[1;32mc:\\users\\avi\\appdata\\local\\programs\\python\\python35\\lib\\tokenize.py\u001b[0m in \u001b[0;36mread_or_stop\u001b[1;34m()\u001b[0m\n\u001b[0;32m    381\u001b[0m     \u001b[1;32mdef\u001b[0m \u001b[0mread_or_stop\u001b[0m\u001b[1;33m(\u001b[0m\u001b[1;33m)\u001b[0m\u001b[1;33m:\u001b[0m\u001b[1;33m\u001b[0m\u001b[0m\n\u001b[0;32m    382\u001b[0m         \u001b[1;32mtry\u001b[0m\u001b[1;33m:\u001b[0m\u001b[1;33m\u001b[0m\u001b[0m\n\u001b[1;32m--> 383\u001b[1;33m             \u001b[1;32mreturn\u001b[0m \u001b[0mreadline\u001b[0m\u001b[1;33m(\u001b[0m\u001b[1;33m)\u001b[0m\u001b[1;33m\u001b[0m\u001b[0m\n\u001b[0m\u001b[0;32m    384\u001b[0m         \u001b[1;32mexcept\u001b[0m \u001b[0mStopIteration\u001b[0m\u001b[1;33m:\u001b[0m\u001b[1;33m\u001b[0m\u001b[0m\n\u001b[0;32m    385\u001b[0m             \u001b[1;32mreturn\u001b[0m \u001b[1;34mb''\u001b[0m\u001b[1;33m\u001b[0m\u001b[0m\n",
      "\u001b[1;31mTypeError\u001b[0m: 'Series' object is not callable"
     ]
    }
   ],
   "source": [
    "import pandas as pd\n",
    "from text_classifier import classify as c\n",
    "import tokenize\n",
    "res_data = pd.DataFrame(pd.read_csv('final_sentence_classification_data.csv'))\n",
    "your_problem_child = input(\"Please enter the exact problem you are facing \")\n",
    "c(tokenize.tokenize((res_data['Responses'])))"
   ]
  },
  {
   "cell_type": "code",
   "execution_count": 11,
   "metadata": {},
   "outputs": [
    {
     "data": {
      "text/plain": [
       "array([\"I'm a 17 year old teenager,I'm a travel enthusiast but my parents donot allow me to go anywhere even at school trips, I'm so  much upset and irritated\\r\\nabout this.\",\n",
       "       \"I'm a 19 year old girl.I love chilling out with my friends but my parents donot alloiw to do so.She don't even let me go out after 6pm.This  is the major issue I'm facing at this point.\",\n",
       "       \"My parents are very aged and they are very narrow minded, they donot allow me to do anything and I'm 28 years old,so I don't think I should take permission  to do something.This is making me loose my temper everyday.\",\n",
       "       \"I'm 27 year old and I want to marry a guy of other religion.But my family is orthodox types and is not allowing me. That's why I'm very much depressed  about this.\",\n",
       "       \"I'm a 28 year old. I want to marry a girl elder than me,but my father don't believe in these types of marriage This pisses me off a lot.\",\n",
       "       \"I'm a 20 years old girl from rural area, my parents are of this rural thinking. They restrict  me in everything and I'm very much stressed about this.\\r\",\n",
       "       \"As a parent of a teenager,I'm very concerned about my child's changing behaviour now a days.He doesn't even talk to  us.He just stays in his room alone. When we try to have a word with him,he starts yelling at us.Because of all these even we are not able to concentrate on anything. We really need a solution to this problem. \",\n",
       "       \"I'm a working women, I work in an IT firm, due to this I'm not able to spend time with my family especially with my child, due to this we are not having a good environment at home. How to manage between workspace and family ?\",\n",
       "       \"We as parents, are so much worried with our child's friend circle.He's spending a lot of time with his friends and is so much involved with them.  He doesn't even have dinner with us. Even if we try to talk to him, he just gets irritated. He's loosing his temper day by day, due to this we when gets angry on him.He's just hanging out with his friends.My main concern is about his studies.He's result is not good.Please do suggest something so we can resolve this problem.\",\n",
       "       \"My child is so much addicted to social sites, mostly she's been on her mobile,when we try to make her understand, she starts having an argument with us.Her attitude towards all of us is changing, she's being arrogant and not even concentrating on her studies. Her graph is declining. We are really very worried,especially in this comptetive era,we know how difficult  is to survive.So,suggest something.  \",\n",
       "       \"We all do have some role model in life,I got this point.But my child is so much into his friend, he follow whatever he says, he copies eveything about him. He needs everything what his friend is having.He's blindly following him.We need guidance how to get back our child on track.\",\n",
       "       \"Being a parent of an adolescent, my child is having some kind of anxiety and stress. But he is not ability to share it with me. I'm concerned about his furtue.He's not even peforming well in his exams, due to this we are about his future.Suggestions needed.\",\n",
       "       \"Me and my child are in different cities because of my job,we use to have good converstations,he use to share everything but now a days, it's very less frequent. We need guidance to regain our bond.\",\n",
       "       \")I'm a father of a teenager and I'm a business man. I want my daughter to share everything with me. But she is don't talk to me properly and she is a shy kid. And she isn't having good friends. So she feels very lonely. I can't see her like this, so please do suggest something.\",\n",
       "       'My son is not concentrating on his studies, all his friends are performing well, due to this we are vert much worried about his future',\n",
       "       \"My child is so much into social sites, every time he's on his phone.When  we try to advice him,he gets irritated. He's having backlogs, as he's not at all  studying and he's even not realizing it.How to make him understand\",\n",
       "       'I want my child to share her problems with me,so that we can have a good understanding with each other.How to start a conversation and make them comfortable. Do suggest something.'],\n",
       "      dtype=object)"
      ]
     },
     "execution_count": 11,
     "metadata": {},
     "output_type": "execute_result"
    }
   ],
   "source": [
    "import numpy as np\n"
   ]
  },
  {
   "cell_type": "code",
   "execution_count": null,
   "metadata": {},
   "outputs": [],
   "source": []
  }
 ],
 "metadata": {
  "kernelspec": {
   "display_name": "Python 3",
   "language": "python",
   "name": "python3"
  },
  "language_info": {
   "codemirror_mode": {
    "name": "ipython",
    "version": 3
   },
   "file_extension": ".py",
   "mimetype": "text/x-python",
   "name": "python",
   "nbconvert_exporter": "python",
   "pygments_lexer": "ipython3",
   "version": "3.5.4"
  }
 },
 "nbformat": 4,
 "nbformat_minor": 2
}
